{
 "cells": [
  {
   "cell_type": "code",
   "execution_count": 2,
   "metadata": {},
   "outputs": [
    {
     "name": "stdout",
     "output_type": "stream",
     "text": [
      "Subclass for Area\n",
      "Sides of triangle in parent class [12,14,15]\n",
      "20.5\n",
      "area of tria = 119.66306865528729\n"
     ]
    }
   ],
   "source": [
    "\"\"\"1.1 Write a Python Program(with class concepts) to find the area of the triangle using the below\n",
    "formula.\n",
    "area = (s*(s-a)*(s-b)*(s-c)) ** 0.5\n",
    "Function to take the length of the sides of triangle from user should be defined in the parent\n",
    "class and function to calculate the area should be defined in subclass.\"\"\"\n",
    "\n",
    "\n",
    "class Triangle:    \n",
    "    def __init__(self, a, b, c):\n",
    "        self.a = a\n",
    "        self.b = b\n",
    "        self.c = c\n",
    "        print(\"Sides of triangle in parent class [\" +  str(a) + \",\" + str(b) + \",\" + str(c) + \"]\")\n",
    "        \n",
    "class Triangle_Sub(Triangle):\n",
    "    \n",
    " def __init__(self, a, b, c):\n",
    "        print(\"Subclass for Area\")\n",
    "        super(Triangle_Sub,self).__init__(a,b,c)\n",
    "              \n",
    "             \n",
    " def area_Triangle(self):\n",
    "  s = (self.a + self.b + self.c)/2\n",
    "  print(str(s))\n",
    "  return (s*(s-(self.a)*(s-(self.b)*(s-(self.c))))) ** 0.5\n",
    "\n",
    "inst = Triangle_Sub(12, 14, 15)\n",
    "print(\"area of tria = \"  +str(inst.area_Triangle()))\n",
    "    \n",
    "\n"
   ]
  },
  {
   "cell_type": "code",
   "execution_count": 25,
   "metadata": {},
   "outputs": [
    {
     "name": "stdout",
     "output_type": "stream",
     "text": [
      "List of words: \n",
      "New List of Words  => ['Today', 'Monday']\n"
     ]
    }
   ],
   "source": [
    "\"\"\"Write a function filter_long_words() that takes a list of words and an integer n and returns the\n",
    "list of words that are longer than n.\"\"\"\n",
    "\n",
    "class lists:\n",
    "    def __init__(self, wordlist):\n",
    "        self.wordlist = wordlist\n",
    "        print (\"List of words: \")\n",
    "\n",
    "    def filter_long_words(self, n):\n",
    "        return list(filter(lambda x:len(x) > n, self.wordlist))\n",
    "  \n",
    "\n",
    "output = lists([\"Today\", \"is\", \"Monday\"])\n",
    "print (\"New List of Words  => \" + str(output.filter_long_words(2)) ) "
   ]
  },
  {
   "cell_type": "code",
   "execution_count": 31,
   "metadata": {},
   "outputs": [
    {
     "name": "stdout",
     "output_type": "stream",
     "text": [
      "List of words\n",
      "Length of words in previous list: [5, 2, 6]\n"
     ]
    }
   ],
   "source": [
    "\"\"\"2.1 Write a Python program using function concept that maps list of words into a list of integers\n",
    "representing the lengths of the corresponding words.\n",
    "Hint: If a list [ ab,cde,erty] is passed on to the python function output should come as [2,3,4]\n",
    "Here 2,3 and 4 are the lengths of the words in the list.\"\"\"\n",
    "\n",
    "\n",
    "class list_word:\n",
    "    def __init__(self,Wordlist):\n",
    "        self.Wordlist = Wordlist\n",
    "        print(\"List of words\")\n",
    "    def len_words(self):\n",
    "        return list(map(lambda x:len(x),self.Wordlist))\n",
    "\n",
    "output = list_word(['Today','is','monday'])\n",
    "print(\"Length of words in previous list:\", output.len_words())\n"
   ]
  },
  {
   "cell_type": "code",
   "execution_count": 5,
   "metadata": {},
   "outputs": [
    {
     "name": "stdout",
     "output_type": "stream",
     "text": [
      "Enter a character of length 1: a\n",
      "a is a vowel.\n"
     ]
    }
   ],
   "source": [
    "\"\"\"2.2 Write a Python function which takes a character (i.e. a string of length 1) and returns True if\n",
    "it is a vowel, False otherwise.\"\"\"\n",
    "\n",
    "Char = input(str(\"Enter a character of length 1: \"))\n",
    "\n",
    "        \n",
    "def vowel_Ch(Char):\n",
    "    vowels = ('a','e','i','o','u','A','E','I','O','U')\n",
    "    if Char in vowels:\n",
    "        return True\n",
    "    else:\n",
    "        return False   \n",
    "    \n",
    " \n",
    "\n",
    "if (vowel_Ch(Char)):\n",
    "    print(Char, \"is a vowel.\")\n",
    "else:\n",
    "    print(Char, \"is not a vowel.\")\n",
    "    \n",
    " \n",
    "    \n",
    "\n",
    "    "
   ]
  },
  {
   "cell_type": "code",
   "execution_count": null,
   "metadata": {
    "collapsed": true
   },
   "outputs": [],
   "source": []
  }
 ],
 "metadata": {
  "kernelspec": {
   "display_name": "Python 3",
   "language": "python",
   "name": "python3"
  }
 },
 "nbformat": 4,
 "nbformat_minor": 2
}
